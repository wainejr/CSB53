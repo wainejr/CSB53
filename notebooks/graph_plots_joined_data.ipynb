{
 "cells": [
  {
   "cell_type": "code",
   "execution_count": 132,
   "metadata": {},
   "outputs": [],
   "source": [
    "import pandas as pd\n",
    "import matplotlib.pyplot as plt\n",
    "import numpy as np\n",
    "import seaborn as sns"
   ]
  },
  {
   "cell_type": "code",
   "execution_count": 133,
   "metadata": {},
   "outputs": [
    {
     "data": {
      "text/html": [
       "<div>\n",
       "<style scoped>\n",
       "    .dataframe tbody tr th:only-of-type {\n",
       "        vertical-align: middle;\n",
       "    }\n",
       "\n",
       "    .dataframe tbody tr th {\n",
       "        vertical-align: top;\n",
       "    }\n",
       "\n",
       "    .dataframe thead th {\n",
       "        text-align: right;\n",
       "    }\n",
       "</style>\n",
       "<table border=\"1\" class=\"dataframe\">\n",
       "  <thead>\n",
       "    <tr style=\"text-align: right;\">\n",
       "      <th></th>\n",
       "      <th>artist</th>\n",
       "      <th>album</th>\n",
       "      <th>release_date</th>\n",
       "      <th>userscore</th>\n",
       "      <th>metascore</th>\n",
       "      <th>link_album</th>\n",
       "      <th>link_img</th>\n",
       "      <th>genres</th>\n",
       "      <th>grammy</th>\n",
       "      <th>billboard</th>\n",
       "    </tr>\n",
       "  </thead>\n",
       "  <tbody>\n",
       "    <tr>\n",
       "      <th>0</th>\n",
       "      <td>Sigur Rós</td>\n",
       "      <td>()</td>\n",
       "      <td>2002-10-29</td>\n",
       "      <td>88.0</td>\n",
       "      <td>82</td>\n",
       "      <td>https://www.metacritic.com/music/()/sigur-ros</td>\n",
       "      <td>https://static.metacritic.com/images/products/...</td>\n",
       "      <td>[Indie, Rock]</td>\n",
       "      <td>None</td>\n",
       "      <td>None</td>\n",
       "    </tr>\n",
       "    <tr>\n",
       "      <th>1</th>\n",
       "      <td>Ed Sheeran</td>\n",
       "      <td>Divide</td>\n",
       "      <td>2017-03-03</td>\n",
       "      <td>47.0</td>\n",
       "      <td>62</td>\n",
       "      <td>https://www.metacritic.com/music/(divide)/ed-s...</td>\n",
       "      <td>https://static.metacritic.com/images/products/...</td>\n",
       "      <td>[Pop/Rock]</td>\n",
       "      <td>None</td>\n",
       "      <td>{'2017': 4, '2018': 5, '2019': 31, '2020': 65}</td>\n",
       "    </tr>\n",
       "    <tr>\n",
       "      <th>2</th>\n",
       "      <td>Ed Sheeran</td>\n",
       "      <td>+</td>\n",
       "      <td>2012-06-12</td>\n",
       "      <td>76.0</td>\n",
       "      <td>67</td>\n",
       "      <td>https://www.metacritic.com/music/+/ed-sheeran</td>\n",
       "      <td>https://static.metacritic.com/images/products/...</td>\n",
       "      <td>[Pop/Rock]</td>\n",
       "      <td>None</td>\n",
       "      <td>{'2012': 136, '2013': 46, '2014': 122, '2015':...</td>\n",
       "    </tr>\n",
       "    <tr>\n",
       "      <th>3</th>\n",
       "      <td>Jewel</td>\n",
       "      <td>0304</td>\n",
       "      <td>2003-06-03</td>\n",
       "      <td>63.0</td>\n",
       "      <td>63</td>\n",
       "      <td>https://www.metacritic.com/music/0304/jewel</td>\n",
       "      <td>https://static.metacritic.com/images/products/...</td>\n",
       "      <td>[Pop, Adult Alternative, Singer-Songwriter]</td>\n",
       "      <td>None</td>\n",
       "      <td>{'2003': 110}</td>\n",
       "    </tr>\n",
       "    <tr>\n",
       "      <th>4</th>\n",
       "      <td>High Places</td>\n",
       "      <td>03/07-09/07</td>\n",
       "      <td>2008-07-22</td>\n",
       "      <td>77.0</td>\n",
       "      <td>81</td>\n",
       "      <td>https://www.metacritic.com/music/0307-0907/hig...</td>\n",
       "      <td>https://static.metacritic.com/images/products/...</td>\n",
       "      <td>[Electronic]</td>\n",
       "      <td>None</td>\n",
       "      <td>None</td>\n",
       "    </tr>\n",
       "    <tr>\n",
       "      <th>...</th>\n",
       "      <td>...</td>\n",
       "      <td>...</td>\n",
       "      <td>...</td>\n",
       "      <td>...</td>\n",
       "      <td>...</td>\n",
       "      <td>...</td>\n",
       "      <td>...</td>\n",
       "      <td>...</td>\n",
       "      <td>...</td>\n",
       "      <td>...</td>\n",
       "    </tr>\n",
       "    <tr>\n",
       "      <th>3241</th>\n",
       "      <td>Joanna Newsom</td>\n",
       "      <td>Ys</td>\n",
       "      <td>2006-11-14</td>\n",
       "      <td>84.0</td>\n",
       "      <td>85</td>\n",
       "      <td>https://www.metacritic.com/music/ys/joanna-newsom</td>\n",
       "      <td>https://static.metacritic.com/images/products/...</td>\n",
       "      <td>[Indie, Rock, Folk]</td>\n",
       "      <td>None</td>\n",
       "      <td>None</td>\n",
       "    </tr>\n",
       "    <tr>\n",
       "      <th>3242</th>\n",
       "      <td>Smashing Pumpkins</td>\n",
       "      <td>Zeitgeist</td>\n",
       "      <td>2007-07-10</td>\n",
       "      <td>77.0</td>\n",
       "      <td>59</td>\n",
       "      <td>https://www.metacritic.com/music/zeitgeist/the...</td>\n",
       "      <td>https://static.metacritic.com/images/products/...</td>\n",
       "      <td>[Rock, Alternative]</td>\n",
       "      <td>None</td>\n",
       "      <td>{'2007': 165}</td>\n",
       "    </tr>\n",
       "    <tr>\n",
       "      <th>3243</th>\n",
       "      <td>Tal National</td>\n",
       "      <td>Zoy Zoy</td>\n",
       "      <td>2015-04-13</td>\n",
       "      <td>NaN</td>\n",
       "      <td>82</td>\n",
       "      <td>https://www.metacritic.com/music/zoy-zoy/tal-n...</td>\n",
       "      <td>https://static.metacritic.com/images/products/...</td>\n",
       "      <td>[Pop/Rock, International, West African, Africa...</td>\n",
       "      <td>None</td>\n",
       "      <td>None</td>\n",
       "    </tr>\n",
       "    <tr>\n",
       "      <th>3244</th>\n",
       "      <td>Denzel Curry</td>\n",
       "      <td>ZUU</td>\n",
       "      <td>2019-05-31</td>\n",
       "      <td>80.0</td>\n",
       "      <td>85</td>\n",
       "      <td>https://www.metacritic.com/music/zuu/denzel-curry</td>\n",
       "      <td>https://static.metacritic.com/images/products/...</td>\n",
       "      <td>[Rap]</td>\n",
       "      <td>None</td>\n",
       "      <td>None</td>\n",
       "    </tr>\n",
       "    <tr>\n",
       "      <th>3245</th>\n",
       "      <td>My Morning Jacket</td>\n",
       "      <td>Z</td>\n",
       "      <td>2005-10-04</td>\n",
       "      <td>84.0</td>\n",
       "      <td>90</td>\n",
       "      <td>https://www.metacritic.com/music/z/my-morning-...</td>\n",
       "      <td>https://static.metacritic.com/images/products/...</td>\n",
       "      <td>[Indie, Rock]</td>\n",
       "      <td>None</td>\n",
       "      <td>None</td>\n",
       "    </tr>\n",
       "  </tbody>\n",
       "</table>\n",
       "<p>3246 rows × 10 columns</p>\n",
       "</div>"
      ],
      "text/plain": [
       "                 artist        album release_date  userscore  metascore  \\\n",
       "0             Sigur Rós           ()   2002-10-29       88.0         82   \n",
       "1            Ed Sheeran       Divide   2017-03-03       47.0         62   \n",
       "2            Ed Sheeran            +   2012-06-12       76.0         67   \n",
       "3                 Jewel         0304   2003-06-03       63.0         63   \n",
       "4           High Places  03/07-09/07   2008-07-22       77.0         81   \n",
       "...                 ...          ...          ...        ...        ...   \n",
       "3241      Joanna Newsom           Ys   2006-11-14       84.0         85   \n",
       "3242  Smashing Pumpkins    Zeitgeist   2007-07-10       77.0         59   \n",
       "3243       Tal National      Zoy Zoy   2015-04-13        NaN         82   \n",
       "3244       Denzel Curry          ZUU   2019-05-31       80.0         85   \n",
       "3245  My Morning Jacket            Z   2005-10-04       84.0         90   \n",
       "\n",
       "                                             link_album  \\\n",
       "0         https://www.metacritic.com/music/()/sigur-ros   \n",
       "1     https://www.metacritic.com/music/(divide)/ed-s...   \n",
       "2         https://www.metacritic.com/music/+/ed-sheeran   \n",
       "3           https://www.metacritic.com/music/0304/jewel   \n",
       "4     https://www.metacritic.com/music/0307-0907/hig...   \n",
       "...                                                 ...   \n",
       "3241  https://www.metacritic.com/music/ys/joanna-newsom   \n",
       "3242  https://www.metacritic.com/music/zeitgeist/the...   \n",
       "3243  https://www.metacritic.com/music/zoy-zoy/tal-n...   \n",
       "3244  https://www.metacritic.com/music/zuu/denzel-curry   \n",
       "3245  https://www.metacritic.com/music/z/my-morning-...   \n",
       "\n",
       "                                               link_img  \\\n",
       "0     https://static.metacritic.com/images/products/...   \n",
       "1     https://static.metacritic.com/images/products/...   \n",
       "2     https://static.metacritic.com/images/products/...   \n",
       "3     https://static.metacritic.com/images/products/...   \n",
       "4     https://static.metacritic.com/images/products/...   \n",
       "...                                                 ...   \n",
       "3241  https://static.metacritic.com/images/products/...   \n",
       "3242  https://static.metacritic.com/images/products/...   \n",
       "3243  https://static.metacritic.com/images/products/...   \n",
       "3244  https://static.metacritic.com/images/products/...   \n",
       "3245  https://static.metacritic.com/images/products/...   \n",
       "\n",
       "                                                 genres grammy  \\\n",
       "0                                         [Indie, Rock]   None   \n",
       "1                                            [Pop/Rock]   None   \n",
       "2                                            [Pop/Rock]   None   \n",
       "3           [Pop, Adult Alternative, Singer-Songwriter]   None   \n",
       "4                                          [Electronic]   None   \n",
       "...                                                 ...    ...   \n",
       "3241                                [Indie, Rock, Folk]   None   \n",
       "3242                                [Rock, Alternative]   None   \n",
       "3243  [Pop/Rock, International, West African, Africa...   None   \n",
       "3244                                              [Rap]   None   \n",
       "3245                                      [Indie, Rock]   None   \n",
       "\n",
       "                                              billboard  \n",
       "0                                                  None  \n",
       "1        {'2017': 4, '2018': 5, '2019': 31, '2020': 65}  \n",
       "2     {'2012': 136, '2013': 46, '2014': 122, '2015':...  \n",
       "3                                         {'2003': 110}  \n",
       "4                                                  None  \n",
       "...                                                 ...  \n",
       "3241                                               None  \n",
       "3242                                      {'2007': 165}  \n",
       "3243                                               None  \n",
       "3244                                               None  \n",
       "3245                                               None  \n",
       "\n",
       "[3246 rows x 10 columns]"
      ]
     },
     "execution_count": 133,
     "metadata": {},
     "output_type": "execute_result"
    }
   ],
   "source": [
    "filename = \"../data/all_data.json\"\n",
    "\n",
    "df = pd.read_json(filename, convert_dates=[\"release_date\"])\n",
    "df"
   ]
  },
  {
   "cell_type": "markdown",
   "metadata": {},
   "source": [
    "# Total x Billboard x Grammy"
   ]
  },
  {
   "cell_type": "code",
   "execution_count": 134,
   "metadata": {},
   "outputs": [
    {
     "name": "stdout",
     "output_type": "stream",
     "text": [
      "Total: 3246\n",
      "Billboard: 1296\n",
      "Billboard Top 1: 15\n",
      "Grammy: 97\n",
      "Grammy winners: 17\n"
     ]
    }
   ],
   "source": [
    "df_billboard = df[df[\"billboard\"].notnull()]\n",
    "df_grammy = df[df[\"grammy\"].notnull()]\n",
    "\n",
    "_grammy_winners = df_grammy[\"grammy\"].apply(lambda d: d[\"won\"])\n",
    "_billboard_top_1 = df_billboard[\"billboard\"].apply(lambda d: [v for v in d.values()])\n",
    "\n",
    "print(\"Total:\", len(df))\n",
    "print(\"Billboard:\", len(df_billboard))\n",
    "print(\"Billboard Top 1:\", len([... for b in _billboard_top_1.to_list() if 1 in b]))\n",
    "print(\"Grammy:\", len(df_grammy))\n",
    "print(\"Grammy winners:\", len([... for g in _grammy_winners.to_list() if g == 1]))"
   ]
  },
  {
   "cell_type": "markdown",
   "metadata": {},
   "source": [
    "# Plot data time distribution"
   ]
  },
  {
   "cell_type": "code",
   "execution_count": 135,
   "metadata": {},
   "outputs": [
    {
     "data": {
      "text/plain": [
       "<AxesSubplot:title={'center':'Grammy'}, xlabel='release_date'>"
      ]
     },
     "execution_count": 135,
     "metadata": {},
     "output_type": "execute_result"
    },
    {
     "data": {
      "image/png": "[encoded data removed]",
      "text/plain": [
       "<Figure size 1080x360 with 3 Axes>"
      ]
     },
     "metadata": {
      "needs_background": "light"
     },
     "output_type": "display_data"
    }
   ],
   "source": [
    "fig, axes = plt.subplots(nrows=1, ncols=3)\n",
    "fig.set_figheight(5)\n",
    "fig.set_figwidth(15)\n",
    "\n",
    "_df_year = df.groupby([df[\"release_date\"].dt.year]).size()\n",
    "_df_year.plot.bar(ax=axes[0], title=\"All data\")\n",
    "\n",
    "_df_year = df_billboard.groupby([df_billboard[\"release_date\"].dt.year]).size()\n",
    "_df_year.plot.bar(ax=axes[1], title=\"Billboard\")\n",
    "\n",
    "_df_year = df_grammy.groupby([df_grammy[\"release_date\"].dt.year]).size()\n",
    "_df_year.plot.bar(ax=axes[2], title=\"Grammy\")"
   ]
  },
  {
   "cell_type": "markdown",
   "metadata": {},
   "source": [
    "The ideal would be to get 200 in Billboard, but an average of 50 is ok.\n",
    "\n",
    "Grammy is harder to estimate, because some albums are released in one year, but runs for the award in the next year.\n",
    "But 5 albums per year would be the ideal (2018 forwards the award started to nominate more than 5 albums)."
   ]
  },
  {
   "cell_type": "markdown",
   "metadata": {},
   "source": [
    "# Billboard position distribution"
   ]
  },
  {
   "cell_type": "code",
   "execution_count": 136,
   "metadata": {},
   "outputs": [
    {
     "data": {
      "text/plain": [
       "<AxesSubplot:xlabel='pos', ylabel='Count'>"
      ]
     },
     "execution_count": 136,
     "metadata": {},
     "output_type": "execute_result"
    },
    {
     "data": {
      "image/png": "[encoded data removed]",
      "text/plain": [
       "<Figure size 432x288 with 1 Axes>"
      ]
     },
     "metadata": {
      "needs_background": "light"
     },
     "output_type": "display_data"
    }
   ],
   "source": [
    "_billboard_positions = df_billboard[\"billboard\"].apply(lambda d: [v for v in d.values()])\n",
    "all_pos = []\n",
    "for b in _billboard_positions.values:\n",
    "    for v in b:\n",
    "        all_pos.append(v)\n",
    "\n",
    "_pos_df = pd.DataFrame([{\"pos\": a} for a in all_pos])\n",
    "# _pos_df.plot.bar(xticks=[0, 25, 50, 75, 100, 125, 150, 175, 200], yticks=[0, 5, 10, 15, 20])\n",
    "\n",
    "sns.histplot(_pos_df, x=\"pos\", fill=True, element=\"bars\", kde=True)\n",
    "# _pos_df"
   ]
  },
  {
   "cell_type": "markdown",
   "metadata": {},
   "source": [
    "We can see that the number of album drops for the bottom of the list, which is expected"
   ]
  },
  {
   "cell_type": "markdown",
   "metadata": {},
   "source": [
    "# IDEAS FOR PLOTS\n",
    "\n",
    "- Genres distribution in Grammy/Billboard/All data (histplot)\n",
    "- Metascore by position for Billboard (average)\n",
    "- Metascore by year for Billboard (average), (maybe only top 10)\n",
    "- Metascore for grammy albums (already done, just copy)\n",
    "- Metascore by genre (boxplot)"
   ]
  }
 ],
 "metadata": {
  "interpreter": {
   "hash": "0f6de7ab43b8c4cd3ecbbd31e2261ba4da0f3274cc9bb3c6ebd2f4ad9a6b8361"
  },
  "kernelspec": {
   "display_name": "Python 3.8.8 64-bit ('grammy-e8VgRHjM-py3.8': poetry)",
   "name": "python3"
  },
  "language_info": {
   "codemirror_mode": {
    "name": "ipython",
    "version": 3
   },
   "file_extension": ".py",
   "mimetype": "text/x-python",
   "name": "python",
   "nbconvert_exporter": "python",
   "pygments_lexer": "ipython3",
   "version": "3.8.8"
  },
  "orig_nbformat": 4
 },
 "nbformat": 4,
 "nbformat_minor": 2
}
